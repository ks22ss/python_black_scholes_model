{
 "cells": [
  {
   "cell_type": "code",
   "execution_count": 2,
   "metadata": {},
   "outputs": [
    {
     "name": "stdout",
     "output_type": "stream",
     "text": [
      "Option Price is: 0.63\n"
     ]
    }
   ],
   "source": [
    "import numpy as np\n",
    "from scipy.stats import norm\n",
    "\n",
    "\n",
    "#define variables\n",
    "r = 0.01    # interest rate\n",
    "S = 47      # Asset Price\n",
    "K = 49      # Strike Price\n",
    "T = 31/365 # Time until Expiry\n",
    "sigma = 0.25 # Volatility\n",
    "\n",
    "def blackScholes(r,S,K,T,sigma,type=\"C\"):\n",
    "    d1 = (np.log(S/K) + (r + sigma**2/2)*T)/(sigma*np.sqrt(T))\n",
    "    d2 = d1 - sigma*np.sqrt(T)\n",
    "\n",
    "    if type == \"C\":\n",
    "        price = S*norm.cdf(d1,0,1) - K*np.exp(-r*T)*norm.cdf(d2, 0, 1)\n",
    "    elif type == \"P\":\n",
    "        price = K*np.exp(-r*T)*norm.cdf(-d2,0,1) - S*norm.cdf(-d1, 0, 1)\n",
    "    \n",
    "    return price\n",
    "\n",
    "print(f\"Option Price is: {round((blackScholes(r,S,K,T,sigma,type='C')),2)}\")"
   ]
  },
  {
   "cell_type": "code",
   "execution_count": 3,
   "metadata": {},
   "outputs": [
    {
     "ename": "ModuleNotFoundError",
     "evalue": "No module named 'py_vollib'",
     "output_type": "error",
     "traceback": [
      "\u001b[1;31m---------------------------------------------------------------------------\u001b[0m",
      "\u001b[1;31mModuleNotFoundError\u001b[0m                       Traceback (most recent call last)",
      "\u001b[1;32mc:\\dev\\quant\\python_black_scholes_model\\python_black_scholes_model\\implementing_blackScholes.ipynb Cell 2'\u001b[0m in \u001b[0;36m<cell line: 1>\u001b[1;34m()\u001b[0m\n\u001b[1;32m----> <a href='vscode-notebook-cell:/c%3A/dev/quant/python_black_scholes_model/python_black_scholes_model/implementing_blackScholes.ipynb#ch0000002?line=0'>1</a>\u001b[0m \u001b[39mfrom\u001b[39;00m \u001b[39mpy_vollib\u001b[39;00m\u001b[39m.\u001b[39;00m\u001b[39mblack_scholes\u001b[39;00m \u001b[39mimport\u001b[39;00m black_scholes \u001b[39mas\u001b[39;00m bs\n",
      "\u001b[1;31mModuleNotFoundError\u001b[0m: No module named 'py_vollib'"
     ]
    }
   ],
   "source": [
    "from py_vollib.black_scholes import black_scholes as bs"
   ]
  },
  {
   "cell_type": "code",
   "execution_count": null,
   "metadata": {},
   "outputs": [],
   "source": []
  }
 ],
 "metadata": {
  "interpreter": {
   "hash": "3de29b8f7a11c76bb793a2166b306a66e2c8f9ddf3e39e1b2af7ec63fc4a1124"
  },
  "kernelspec": {
   "display_name": "Python 3.9.12 ('quant': venv)",
   "language": "python",
   "name": "python3"
  },
  "language_info": {
   "codemirror_mode": {
    "name": "ipython",
    "version": 3
   },
   "file_extension": ".py",
   "mimetype": "text/x-python",
   "name": "python",
   "nbconvert_exporter": "python",
   "pygments_lexer": "ipython3",
   "version": "3.9.12"
  },
  "orig_nbformat": 4
 },
 "nbformat": 4,
 "nbformat_minor": 2
}
