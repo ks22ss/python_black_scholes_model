{
 "cells": [
  {
   "cell_type": "markdown",
   "metadata": {},
   "source": [
    "# Black Scholes Formula and Option Greeks in Python"
   ]
  },
  {
   "cell_type": "code",
   "execution_count": 6,
   "metadata": {},
   "outputs": [
    {
     "name": "stdout",
     "output_type": "stream",
     "text": [
      "Option Price is: (0.63, 0.63)\n"
     ]
    }
   ],
   "source": [
    "import numpy as np\n",
    "from scipy.stats import norm\n",
    "from py_vollib.black_scholes import black_scholes as bs\n",
    "from py_vollib.black_scholes.greeks.analytical import delta, gamma, vega, theta, rho\n",
    "\n",
    "#define variables\n",
    "r = 0.01    # interest rate\n",
    "S = 47      # Asset Price\n",
    "K = 49      # Strike Price\n",
    "T = 31/365 # Time until Expiry\n",
    "sigma = 0.25 # Volatility\n",
    "\n",
    "def blackScholes(r,S,K,T,sigma,type=\"c\"):\n",
    "    d1 = (np.log(S/K) + (r + sigma**2/2)*T)/(sigma*np.sqrt(T))\n",
    "    d2 = d1 - sigma*np.sqrt(T)\n",
    "\n",
    "    if type == \"c\":\n",
    "        price = S*norm.cdf(d1,0,1) - K*np.exp(-r*T)*norm.cdf(d2, 0, 1)\n",
    "    elif type == \"p\":\n",
    "        price = K*np.exp(-r*T)*norm.cdf(-d2,0,1) - S*norm.cdf(-d1, 0, 1)\n",
    "    \n",
    "    return round(price,2), round(bs(type,S,K,T,r,sigma),2)\n",
    "\n",
    "print(f\"Option Price is: {blackScholes(r,S,K,T,sigma,type='c')}\")"
   ]
  },
  {
   "cell_type": "markdown",
   "metadata": {},
   "source": [
    "# Delta"
   ]
  },
  {
   "cell_type": "markdown",
   "metadata": {},
   "source": [
    "Delta measures the rate of change of the theoretical option value with respect to price"
   ]
  },
  {
   "cell_type": "code",
   "execution_count": 11,
   "metadata": {},
   "outputs": [],
   "source": [
    "def calculate_delta(r,S,K,T,sigma,type=\"c\"):\n",
    "    d1 = (np.log(S/K) + (r + sigma**2/2)*T)/(sigma*np.sqrt(T))\n",
    "    \n",
    "    if type == \"c\":\n",
    "        result = norm.cdf(d1,0,1)\n",
    "    elif type == \"p\":\n",
    "        result = -norm.cdf(-d1, 0, 1)\n",
    "\n",
    "    return result, delta(type, S, K, T, r, sigma)"
   ]
  },
  {
   "cell_type": "code",
   "execution_count": 12,
   "metadata": {},
   "outputs": [
    {
     "data": {
      "text/plain": [
       "(0.3001778014108129, 0.30017780141081296)"
      ]
     },
     "execution_count": 12,
     "metadata": {},
     "output_type": "execute_result"
    }
   ],
   "source": [
    "calculate_delta(r,S,K,T,sigma,type=\"c\")"
   ]
  },
  {
   "cell_type": "markdown",
   "metadata": {},
   "source": [
    "# Gamma"
   ]
  },
  {
   "cell_type": "markdown",
   "metadata": {},
   "source": [
    "Gamma measures the rate of change of delta with respect to price"
   ]
  },
  {
   "cell_type": "code",
   "execution_count": 13,
   "metadata": {},
   "outputs": [],
   "source": [
    "def calculate_gamma(r,S,K,T,sigma,type=\"c\"):\n",
    "    d1 = (np.log(S/K) + (r + sigma**2/2)*T)/(sigma*np.sqrt(T))\n",
    "    d2 = d1 - sigma*np.sqrt(T)\n",
    "\n",
    "    result = norm.pdf(d1,0,1)/(S*sigma*np.sqrt(T))\n",
    "\n",
    "    return result, gamma(type, S, K, T, r, sigma)"
   ]
  },
  {
   "cell_type": "code",
   "execution_count": 14,
   "metadata": {},
   "outputs": [
    {
     "data": {
      "text/plain": [
       "(0.10156394800267629, 0.10156394800267628)"
      ]
     },
     "execution_count": 14,
     "metadata": {},
     "output_type": "execute_result"
    }
   ],
   "source": [
    "calculate_gamma(r,S,K,T,sigma,type=\"c\")"
   ]
  },
  {
   "cell_type": "markdown",
   "metadata": {},
   "source": [
    "# Vega"
   ]
  },
  {
   "cell_type": "markdown",
   "metadata": {},
   "source": [
    "Vega measure sensitivity to volatility (per 1% change)"
   ]
  },
  {
   "cell_type": "code",
   "execution_count": 19,
   "metadata": {},
   "outputs": [],
   "source": [
    "def calculate_vega(r,S,K,T,sigma,type=\"c\"):\n",
    "    d1 = (np.log(S/K) + (r + sigma**2/2)*T)/(sigma*np.sqrt(T))\n",
    "    d2 = d1 - sigma*np.sqrt(T)\n",
    "\n",
    "    result = S*norm.pdf(d1,0,1)*np.sqrt(T)\n",
    "\n",
    "    return result*0.01, vega(type, S, K, T, r, sigma)"
   ]
  },
  {
   "cell_type": "code",
   "execution_count": 20,
   "metadata": {},
   "outputs": [
    {
     "data": {
      "text/plain": [
       "(0.04763696983065253, 0.04763696983065252)"
      ]
     },
     "execution_count": 20,
     "metadata": {},
     "output_type": "execute_result"
    }
   ],
   "source": [
    "calculate_vega(r,S,K,T,sigma,type=\"c\")"
   ]
  },
  {
   "cell_type": "markdown",
   "metadata": {},
   "source": [
    "# Theta "
   ]
  },
  {
   "cell_type": "markdown",
   "metadata": {},
   "source": [
    "The measure of sensitivity of the value with respect to time (per day here)"
   ]
  },
  {
   "cell_type": "code",
   "execution_count": 23,
   "metadata": {},
   "outputs": [],
   "source": [
    "def calculate_theta(r,S,K,T,sigma,type=\"c\"):\n",
    "    d1 = (np.log(S/K) + (r + sigma**2/2)*T)/(sigma*np.sqrt(T))\n",
    "    d2 = d1 - sigma*np.sqrt(T)\n",
    "\n",
    "    if type == \"c\":\n",
    "        result = -S*norm.pdf(d1,0,1)*sigma/(2*np.sqrt(T)) - r*K*np.exp(-r*T)*norm.cdf(d2,0,1)\n",
    "    elif type == \"p\":\n",
    "        result = -S*norm.pdf(d1,0,1)*sigma/(2*np.sqrt(T)) + r*K*np.exp(-r*T)*norm.cdf(-d2,0,1)\n",
    "\n",
    "    return result/365, theta(type, S, K, T, r, sigma)"
   ]
  },
  {
   "cell_type": "code",
   "execution_count": 24,
   "metadata": {},
   "outputs": [
    {
     "data": {
      "text/plain": [
       "(-0.019577773938248166, -0.019577773938248166)"
      ]
     },
     "execution_count": 24,
     "metadata": {},
     "output_type": "execute_result"
    }
   ],
   "source": [
    "calculate_theta(r,S,K,T,sigma,type=\"c\")"
   ]
  },
  {
   "cell_type": "markdown",
   "metadata": {},
   "source": [
    "# Rho"
   ]
  },
  {
   "cell_type": "markdown",
   "metadata": {},
   "source": [
    "The measure of the sensitivity to the interest rate"
   ]
  },
  {
   "cell_type": "code",
   "execution_count": 21,
   "metadata": {},
   "outputs": [],
   "source": [
    "def calculate_rho(r,S,K,T,sigma,type=\"c\"):\n",
    "    d1 = (np.log(S/K) + (r + sigma**2/2)*T)/(sigma*np.sqrt(T))\n",
    "    d2 = d1 - sigma*np.sqrt(T)\n",
    "\n",
    "    if type == \"c\":\n",
    "        result = K*T*np.exp(-r*T)*norm.cdf(d2,0,1)\n",
    "    elif type == \"p\":\n",
    "        result = -K*T*np.exp(-r*T)*norm.cdf(-d2,0,1)\n",
    "\n",
    "    return result*0.01, rho(type, S, K, T, r, sigma)"
   ]
  },
  {
   "cell_type": "code",
   "execution_count": 22,
   "metadata": {},
   "outputs": [
    {
     "data": {
      "text/plain": [
       "(0.011448869202536533, 0.011448869202536537)"
      ]
     },
     "execution_count": 22,
     "metadata": {},
     "output_type": "execute_result"
    }
   ],
   "source": [
    "calculate_rho(r,S,K,T,sigma,type=\"c\")"
   ]
  },
  {
   "cell_type": "code",
   "execution_count": null,
   "metadata": {},
   "outputs": [],
   "source": []
  }
 ],
 "metadata": {
  "interpreter": {
   "hash": "3de29b8f7a11c76bb793a2166b306a66e2c8f9ddf3e39e1b2af7ec63fc4a1124"
  },
  "kernelspec": {
   "display_name": "Python 3.9.12 ('quant': venv)",
   "language": "python",
   "name": "python3"
  },
  "language_info": {
   "codemirror_mode": {
    "name": "ipython",
    "version": 3
   },
   "file_extension": ".py",
   "mimetype": "text/x-python",
   "name": "python",
   "nbconvert_exporter": "python",
   "pygments_lexer": "ipython3",
   "version": "3.9.12"
  },
  "orig_nbformat": 4
 },
 "nbformat": 4,
 "nbformat_minor": 2
}
