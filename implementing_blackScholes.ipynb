{
 "cells": [
  {
   "cell_type": "code",
   "execution_count": 5,
   "metadata": {},
   "outputs": [
    {
     "name": "stdout",
     "output_type": "stream",
     "text": [
      "Option Price is: 0.63\n"
     ]
    }
   ],
   "source": [
    "import numpy as np\n",
    "from scipy.stats import norm\n",
    "\n",
    "#define variables\n",
    "r = 0.01    # interest rate\n",
    "S = 47      # Asset Price\n",
    "K = 49      # Strike Price\n",
    "T = 31/365 # Time until Expiry\n",
    "sigma = 0.25 # Volatility\n",
    "\n",
    "def blackScholes(r,S,K,T,sigma,type=\"C\"):\n",
    "    d1 = (np.log(S/K) + (r + sigma**2/2)*T)/(sigma*np.sqrt(T))\n",
    "    d2 = d1 - sigma*np.sqrt(T)\n",
    "\n",
    "    if type == \"C\":\n",
    "        price = S*norm.cdf(d1,0,1) - K*np.exp(-r*T)*norm.cdf(d2, 0, 1)\n",
    "    elif type == \"P\":\n",
    "        price = K*np.exp(-r*T)*norm.cdf(-d2,0,1) - S*norm.cdf(-d1, 0, 1)\n",
    "    \n",
    "    return price\n",
    "\n",
    "print(f\"Option Price is: {round((blackScholes(r,S,K,T,sigma,type='C')),2)}\")"
   ]
  },
  {
   "cell_type": "code",
   "execution_count": null,
   "metadata": {},
   "outputs": [],
   "source": []
  }
 ],
 "metadata": {
  "interpreter": {
   "hash": "3de29b8f7a11c76bb793a2166b306a66e2c8f9ddf3e39e1b2af7ec63fc4a1124"
  },
  "kernelspec": {
   "display_name": "Python 3.9.12 ('quant': venv)",
   "language": "python",
   "name": "python3"
  },
  "language_info": {
   "codemirror_mode": {
    "name": "ipython",
    "version": 3
   },
   "file_extension": ".py",
   "mimetype": "text/x-python",
   "name": "python",
   "nbconvert_exporter": "python",
   "pygments_lexer": "ipython3",
   "version": "3.9.12"
  },
  "orig_nbformat": 4
 },
 "nbformat": 4,
 "nbformat_minor": 2
}
